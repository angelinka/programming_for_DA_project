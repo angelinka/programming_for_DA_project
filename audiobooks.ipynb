{
 "cells": [
  {
   "cell_type": "markdown",
   "metadata": {},
   "source": [
    "<img src=\"https://static.voices.com/wp-content/uploads/History-of-Audiobooks.jpg\" width=\"700\" height=\"400\">"
   ]
  },
  {
   "cell_type": "markdown",
   "metadata": {},
   "source": [
    " # Programming for Data Analysis Project\n",
    "## 1. Introduction and Project Overview\n",
    "***\n",
    "### Objectives of the Project:\n",
    "\n",
    "For this project you must create a data set by simulating a real-world phenomenon of your choosing. You may pick any phenomenon you wish – you might pick one that is of interest to you in your personal or professional life. Then, rather than collect data related to the phenomenon, you should model and synthesise such data using Python. We suggest you use the numpy.random package for this purpose.\n",
    "Specifically, in this project you should:\n",
    "- Choose a real-world phenomenon that can be measured and for which you could collect at least one-hundred data points across at least four different variables.\n",
    "- Investigate the types of variables involved, their likely distributions, and their relationships with each other.\n",
    "- Synthesise/simulate a data set as closely matching their properties as possible.\n",
    "- Detail your research and implement the simulation in a Jupyter notebook – the data set itself can simply be displayed in an output cell within the notebook.\n",
    "\n",
    "For this project I've decided to research the statistics for audiobooks services which becoming more popular every year. As a person who loves both audiobooks and statistics, I was curious to find out things like, who listens to audiobooks, how many books does the average audiobook listener go through in a year, and how many new audiobooks are published. \n",
    "\n",
    "I'll pick a selection of relevant variables, examine their properties, potential data types, and how they relate to each other. I'll then try and work out code to simulate a random dataset based on that information.\n",
    "\n",
    "First of all I decided to look at my personal statistics which is readily available for my from my audible app. I’ve been a member since April 2016 and in total for that period (till July 2022) I’ve listened for the audiobooks for 2 months 14 days 15 hours and 16 minutes = 108 734.128 minutes, well done me! Looking back at last 5 months, March and April have the highest listening time, both at about 34 hours. On average my listening time will be around 30 hours a month. Now, it will be interesting to find out how do I compare to the average listener :)"
   ]
  },
  {
   "cell_type": "markdown",
   "metadata": {},
   "source": [
    "## 2. Research and interesting facts\n",
    "***\n",
    "Digital audiobooks continue to be the fastest growing segment in publishing.  Not only is the entire publishing industry making more money, but there is more choice available for customers. In 2019 audiobook sales increased by 16% in the United States and generated over 1.2 billion dollars in revenue, whereas in 2018 it only made 940 million, an increase of 25% from 2017. (https://goodereader.com/blog/audiobooks/audiobook-trends-and-statistics-for-2020)\n",
    "\n",
    "Edison Research national survey of American audiobook listeners ages 18 and up found that the average number of audiobooks listened to per year increased to 8.1 in 2020, up from 6.8 in 2019.\n",
    "The most popular audiobook genre continues to be Mysteries/Thrillers/Suspense. 57% of frequent audiobook listeners are under the age of 45; this is up from 51% in 2019. (https://www.audiopub.org/uploads/pdf/2020-Consumer-Survey-and-2019-Sales-Survey-Press-Release-FINAL.pdf)\n",
    "\n",
    "How are people in the US listening to audiobooks? Smart speakers are becoming increasingly popular from products such as Amazon Echo, Google Home or Apple HomePod. In a recent poll from the American Audiobook Publishers Association found that 60% of respondents own a smart speaker, and 46% of smart speaker owners have used it to listen to an audiobook, which is up 31% from 2018.  Although the automobile is still the number one place where people listen to audiobooks, the home is where audiobooks are played for longer durations. (https://goodereader.com/blog/audiobooks/audiobook-trends-and-statistics-for-2020)\n",
    "\n",
    "Women (between 30 and 49 years old) recently overtook men as a most active audiobook listeners. Audiobooks aren’t particularly popular with people 65 years and older. This group still prefers eBooks and print books.\n",
    "Given the number of audiobooks people listen to and their high price compared to ebooks and even print books, it isn’t surprising that average audiobook listener comes from a higher-income household. In a 2019 survey, 30% of participants with a 75k yearly income said they had listened to at least one audiobook in the previous year. (https://www.statista.com/statistics/299808/audiobook-listening-population-in-the-us-by-household-income/) \n"
   ]
  },
  {
   "cell_type": "code",
   "execution_count": null,
   "metadata": {},
   "outputs": [],
   "source": []
  },
  {
   "cell_type": "code",
   "execution_count": null,
   "metadata": {},
   "outputs": [],
   "source": []
  },
  {
   "cell_type": "markdown",
   "metadata": {},
   "source": [
    "## Generating data\n",
    "***\n",
    "We begin by importing the necessary python packages."
   ]
  },
  {
   "cell_type": "code",
   "execution_count": 1,
   "metadata": {},
   "outputs": [],
   "source": [
    "# numerical arrays\n",
    "import numpy as np\n",
    "\n",
    "# dataframes\n",
    "import pandas as pd\n",
    "\n",
    "# plotting\n",
    "import matplotlib.pyplot as plt\n",
    "\n",
    "# nicer plotting\n",
    "import seaborn as sns\n",
    "\n",
    "# module for choosing from a list\n",
    "from secrets import choice\n",
    "\n",
    "# Regular expressions\n",
    "import re \n",
    "import string\n",
    "\n",
    "# python standard random library\n",
    "import random\n",
    "\n",
    "# Importing Numpy random generator and assigning it to rng variable\n",
    "from numpy.random import default_rng\n",
    "\n",
    "# Seed value 123 is set for reproduceable random data\n",
    "rng = default_rng(seed=123)\n",
    "\n",
    "\n",
    "# set global style for seaborn plots\n",
    "sns.set_style(\"darkgrid\")"
   ]
  },
  {
   "cell_type": "markdown",
   "metadata": {},
   "source": [
    "### User ID\n",
    "I decided that we do not need to know the names of our audiobook service members as it will not add any value into analysis. So instead, we going to distinguish them by their user ID. To generate random user ID, we going to choose 3 random letters and add two random digits to it. We going to add 100 users to our database."
   ]
  },
  {
   "cell_type": "code",
   "execution_count": 2,
   "metadata": {},
   "outputs": [
    {
     "data": {
      "text/html": [
       "<div>\n",
       "<style scoped>\n",
       "    .dataframe tbody tr th:only-of-type {\n",
       "        vertical-align: middle;\n",
       "    }\n",
       "\n",
       "    .dataframe tbody tr th {\n",
       "        vertical-align: top;\n",
       "    }\n",
       "\n",
       "    .dataframe thead th {\n",
       "        text-align: right;\n",
       "    }\n",
       "</style>\n",
       "<table border=\"1\" class=\"dataframe\">\n",
       "  <thead>\n",
       "    <tr style=\"text-align: right;\">\n",
       "      <th></th>\n",
       "      <th>uid</th>\n",
       "    </tr>\n",
       "  </thead>\n",
       "  <tbody>\n",
       "    <tr>\n",
       "      <th>0</th>\n",
       "      <td>BCK19</td>\n",
       "    </tr>\n",
       "    <tr>\n",
       "      <th>1</th>\n",
       "      <td>ANI81</td>\n",
       "    </tr>\n",
       "    <tr>\n",
       "      <th>2</th>\n",
       "      <td>IIG04</td>\n",
       "    </tr>\n",
       "    <tr>\n",
       "      <th>3</th>\n",
       "      <td>CPB34</td>\n",
       "    </tr>\n",
       "    <tr>\n",
       "      <th>4</th>\n",
       "      <td>XCD70</td>\n",
       "    </tr>\n",
       "    <tr>\n",
       "      <th>5</th>\n",
       "      <td>XOG87</td>\n",
       "    </tr>\n",
       "    <tr>\n",
       "      <th>6</th>\n",
       "      <td>IUF65</td>\n",
       "    </tr>\n",
       "    <tr>\n",
       "      <th>7</th>\n",
       "      <td>VIK75</td>\n",
       "    </tr>\n",
       "    <tr>\n",
       "      <th>8</th>\n",
       "      <td>RQR84</td>\n",
       "    </tr>\n",
       "    <tr>\n",
       "      <th>9</th>\n",
       "      <td>RJA71</td>\n",
       "    </tr>\n",
       "  </tbody>\n",
       "</table>\n",
       "</div>"
      ],
      "text/plain": [
       "     uid\n",
       "0  BCK19\n",
       "1  ANI81\n",
       "2  IIG04\n",
       "3  CPB34\n",
       "4  XCD70\n",
       "5  XOG87\n",
       "6  IUF65\n",
       "7  VIK75\n",
       "8  RQR84\n",
       "9  RJA71"
      ]
     },
     "execution_count": 2,
     "metadata": {},
     "output_type": "execute_result"
    }
   ],
   "source": [
    "# Setting user id list for user IDs to be stored\n",
    "uid=[]\n",
    "\n",
    "# Setting random seed for Python Random method\n",
    "random.seed(123)\n",
    "\n",
    "# A for loop for random 3 letter and random 2 digits to be generated as user IDs\n",
    "for i in range(100):\n",
    "    uid.append(''.join(random.choices(string.ascii_uppercase,k=3)) + ''.join(random.choices(string.digits,k=2)))\n",
    "\n",
    "# Creating df data frame with numbered 100 users\n",
    "#df= pd.DataFrame({'N': np.arange(100)})\n",
    "df= pd.DataFrame()\n",
    "# Adding generated user IDs to df2\n",
    "df['uid'] = uid\n",
    "#df.drop(columns=['N'])\n",
    "df.head(10)  "
   ]
  },
  {
   "cell_type": "markdown",
   "metadata": {},
   "source": [
    "### Adding gender\n",
    "\n",
    "Now we are going to randomly assign gender to our members. As we do not care whether there will be more men or women in our databse we do not need to specify probablity. "
   ]
  },
  {
   "cell_type": "code",
   "execution_count": 3,
   "metadata": {},
   "outputs": [
    {
     "data": {
      "text/html": [
       "<div>\n",
       "<style scoped>\n",
       "    .dataframe tbody tr th:only-of-type {\n",
       "        vertical-align: middle;\n",
       "    }\n",
       "\n",
       "    .dataframe tbody tr th {\n",
       "        vertical-align: top;\n",
       "    }\n",
       "\n",
       "    .dataframe thead th {\n",
       "        text-align: right;\n",
       "    }\n",
       "</style>\n",
       "<table border=\"1\" class=\"dataframe\">\n",
       "  <thead>\n",
       "    <tr style=\"text-align: right;\">\n",
       "      <th></th>\n",
       "      <th>uid</th>\n",
       "      <th>gender</th>\n",
       "    </tr>\n",
       "  </thead>\n",
       "  <tbody>\n",
       "    <tr>\n",
       "      <th>0</th>\n",
       "      <td>BCK19</td>\n",
       "      <td>male</td>\n",
       "    </tr>\n",
       "    <tr>\n",
       "      <th>1</th>\n",
       "      <td>ANI81</td>\n",
       "      <td>female</td>\n",
       "    </tr>\n",
       "    <tr>\n",
       "      <th>2</th>\n",
       "      <td>IIG04</td>\n",
       "      <td>female</td>\n",
       "    </tr>\n",
       "    <tr>\n",
       "      <th>3</th>\n",
       "      <td>CPB34</td>\n",
       "      <td>male</td>\n",
       "    </tr>\n",
       "    <tr>\n",
       "      <th>4</th>\n",
       "      <td>XCD70</td>\n",
       "      <td>female</td>\n",
       "    </tr>\n",
       "    <tr>\n",
       "      <th>5</th>\n",
       "      <td>XOG87</td>\n",
       "      <td>male</td>\n",
       "    </tr>\n",
       "    <tr>\n",
       "      <th>6</th>\n",
       "      <td>IUF65</td>\n",
       "      <td>male</td>\n",
       "    </tr>\n",
       "    <tr>\n",
       "      <th>7</th>\n",
       "      <td>VIK75</td>\n",
       "      <td>male</td>\n",
       "    </tr>\n",
       "    <tr>\n",
       "      <th>8</th>\n",
       "      <td>RQR84</td>\n",
       "      <td>male</td>\n",
       "    </tr>\n",
       "    <tr>\n",
       "      <th>9</th>\n",
       "      <td>RJA71</td>\n",
       "      <td>male</td>\n",
       "    </tr>\n",
       "  </tbody>\n",
       "</table>\n",
       "</div>"
      ],
      "text/plain": [
       "     uid  gender\n",
       "0  BCK19    male\n",
       "1  ANI81  female\n",
       "2  IIG04  female\n",
       "3  CPB34    male\n",
       "4  XCD70  female\n",
       "5  XOG87    male\n",
       "6  IUF65    male\n",
       "7  VIK75    male\n",
       "8  RQR84    male\n",
       "9  RJA71    male"
      ]
     },
     "execution_count": 3,
     "metadata": {},
     "output_type": "execute_result"
    }
   ],
   "source": [
    "genders = ['male', 'female']\n",
    "\n",
    "# Random selection of gender for 100 users\n",
    "gender = rng.choice(genders, size=100)\n",
    "df['gender'] = gender.tolist()\n",
    "df.head(10)  "
   ]
  },
  {
   "cell_type": "code",
   "execution_count": 4,
   "metadata": {},
   "outputs": [
    {
     "data": {
      "text/plain": [
       "male      55\n",
       "female    45\n",
       "Name: gender, dtype: int64"
      ]
     },
     "execution_count": 4,
     "metadata": {},
     "output_type": "execute_result"
    }
   ],
   "source": [
    "# We can quickly find out how many males and females are in our database\n",
    "df['gender'].value_counts()"
   ]
  },
  {
   "cell_type": "code",
   "execution_count": 5,
   "metadata": {},
   "outputs": [
    {
     "data": {
      "image/png": "[encoded data removed]",
      "text/plain": [
       "<Figure size 720x576 with 1 Axes>"
      ]
     },
     "metadata": {},
     "output_type": "display_data"
    }
   ],
   "source": [
    "# set figure size\n",
    "plt.rcParams[\"figure.figsize\"] = (10,8)\n",
    "sns.countplot(x= 'gender', data=df)\n",
    "# set title\n",
    "plt.title(\"\\nDistribution by gender\", size=20);"
   ]
  },
  {
   "cell_type": "markdown",
   "metadata": {},
   "source": [
    "### Age groups\n",
    "\n",
    "I thought about putting an actual age here, but it would be completely random and it would be much trikier to specify the probability of every year of age. So I decided to break it into age brackets, similar to what other people have done for this kind of analysis. There will be 4 age groups: '18-29', '30-49', '50-64', '65+'. The breakdown is going to be skewed towards left 2 ranges. Data type will be string.\n",
    "\n",
    "According to Pew Research study, where they gathered data related to age groups and the percentage of various age groups who had consumed an audiobook in the year leading up to February, 2021. From the data provided you can see that approximately 30% of those ages 18-29 had listened to an audiobook in the year leading up to February 2021.\n",
    "(https://www.pewresearch.org/fact-tank/2022/01/06/three-in-ten-americans-now-read-e-books/) So I've tried to have similar distribustion in my data."
   ]
  },
  {
   "cell_type": "code",
   "execution_count": 6,
   "metadata": {},
   "outputs": [
    {
     "data": {
      "text/html": [
       "<div>\n",
       "<style scoped>\n",
       "    .dataframe tbody tr th:only-of-type {\n",
       "        vertical-align: middle;\n",
       "    }\n",
       "\n",
       "    .dataframe tbody tr th {\n",
       "        vertical-align: top;\n",
       "    }\n",
       "\n",
       "    .dataframe thead th {\n",
       "        text-align: right;\n",
       "    }\n",
       "</style>\n",
       "<table border=\"1\" class=\"dataframe\">\n",
       "  <thead>\n",
       "    <tr style=\"text-align: right;\">\n",
       "      <th></th>\n",
       "      <th>uid</th>\n",
       "      <th>gender</th>\n",
       "      <th>age_group</th>\n",
       "    </tr>\n",
       "  </thead>\n",
       "  <tbody>\n",
       "    <tr>\n",
       "      <th>0</th>\n",
       "      <td>BCK19</td>\n",
       "      <td>male</td>\n",
       "      <td>18-29</td>\n",
       "    </tr>\n",
       "    <tr>\n",
       "      <th>1</th>\n",
       "      <td>ANI81</td>\n",
       "      <td>female</td>\n",
       "      <td>18-29</td>\n",
       "    </tr>\n",
       "    <tr>\n",
       "      <th>2</th>\n",
       "      <td>IIG04</td>\n",
       "      <td>female</td>\n",
       "      <td>18-29</td>\n",
       "    </tr>\n",
       "    <tr>\n",
       "      <th>3</th>\n",
       "      <td>CPB34</td>\n",
       "      <td>male</td>\n",
       "      <td>30-49</td>\n",
       "    </tr>\n",
       "    <tr>\n",
       "      <th>4</th>\n",
       "      <td>XCD70</td>\n",
       "      <td>female</td>\n",
       "      <td>30-49</td>\n",
       "    </tr>\n",
       "    <tr>\n",
       "      <th>5</th>\n",
       "      <td>XOG87</td>\n",
       "      <td>male</td>\n",
       "      <td>30-49</td>\n",
       "    </tr>\n",
       "    <tr>\n",
       "      <th>6</th>\n",
       "      <td>IUF65</td>\n",
       "      <td>male</td>\n",
       "      <td>50-64</td>\n",
       "    </tr>\n",
       "    <tr>\n",
       "      <th>7</th>\n",
       "      <td>VIK75</td>\n",
       "      <td>male</td>\n",
       "      <td>30-49</td>\n",
       "    </tr>\n",
       "    <tr>\n",
       "      <th>8</th>\n",
       "      <td>RQR84</td>\n",
       "      <td>male</td>\n",
       "      <td>18-29</td>\n",
       "    </tr>\n",
       "    <tr>\n",
       "      <th>9</th>\n",
       "      <td>RJA71</td>\n",
       "      <td>male</td>\n",
       "      <td>50-64</td>\n",
       "    </tr>\n",
       "  </tbody>\n",
       "</table>\n",
       "</div>"
      ],
      "text/plain": [
       "     uid  gender age_group\n",
       "0  BCK19    male     18-29\n",
       "1  ANI81  female     18-29\n",
       "2  IIG04  female     18-29\n",
       "3  CPB34    male     30-49\n",
       "4  XCD70  female     30-49\n",
       "5  XOG87    male     30-49\n",
       "6  IUF65    male     50-64\n",
       "7  VIK75    male     30-49\n",
       "8  RQR84    male     18-29\n",
       "9  RJA71    male     50-64"
      ]
     },
     "execution_count": 6,
     "metadata": {},
     "output_type": "execute_result"
    }
   ],
   "source": [
    "# create the age_group variable\n",
    "age_group = ['18-29', '30-49', '50-64', '65+']\n",
    "\n",
    "# create new list and specifying probability\n",
    "age = rng.choice(age_group, p=[0.34, 0.3, 0.24, 0.12], size=100)\n",
    "df['age_group'] = age.tolist()\n",
    "df.head(10) "
   ]
  },
  {
   "cell_type": "code",
   "execution_count": 7,
   "metadata": {},
   "outputs": [
    {
     "data": {
      "text/plain": [
       "18-29    39\n",
       "30-49    31\n",
       "50-64    21\n",
       "65+       9\n",
       "Name: age_group, dtype: int64"
      ]
     },
     "execution_count": 7,
     "metadata": {},
     "output_type": "execute_result"
    }
   ],
   "source": [
    "# Now lets see the distribution by the age groups. \n",
    "df['age_group'].value_counts()"
   ]
  },
  {
   "cell_type": "markdown",
   "metadata": {},
   "source": [
    "We can quickly plot it on th pie chart to visualize it."
   ]
  },
  {
   "cell_type": "code",
   "execution_count": 8,
   "metadata": {},
   "outputs": [
    {
     "data": {
      "image/png": "[encoded data removed]",
      "text/plain": [
       "<Figure size 1080x720 with 1 Axes>"
      ]
     },
     "metadata": {},
     "output_type": "display_data"
    }
   ],
   "source": [
    "# create a variable for value counts\n",
    "age_gr=df['age_group'].value_counts()\n",
    "\n",
    "# set figure size\n",
    "plt.rcParams[\"figure.figsize\"] = (15,10)\n",
    "\n",
    "explode = (0.1, 0.08, 0.08, 0.08)\n",
    "# create pie chart with various parameters\n",
    "ax = age_gr.plot(kind='pie', autopct='%1.0f%%', shadow=True, explode= explode, textprops={'fontsize': 12})\n",
    "\n",
    "# set title\n",
    "ax.set_title(\"\\nDistribution of age groups\", size=20);"
   ]
  },
  {
   "cell_type": "code",
   "execution_count": 9,
   "metadata": {},
   "outputs": [
    {
     "data": {
      "image/png": "[encoded data removed]",
      "text/plain": [
       "<Figure size 1080x720 with 1 Axes>"
      ]
     },
     "metadata": {},
     "output_type": "display_data"
    }
   ],
   "source": [
    "# Now let's see how gender distributes between different age groups, y=using seaborn\n",
    "\n",
    "# Setting plot parameters\n",
    "sns.countplot(x='age_group', hue='gender', data=df)\n",
    "plt.title('Members disribution by age group and gender', size=20)\n",
    "plt.xlabel(\"Age group\")\n",
    "plt.ylabel(\"Count\")\n",
    "\n",
    "plt.show()"
   ]
  },
  {
   "cell_type": "markdown",
   "metadata": {},
   "source": [
    "### Genres\n",
    "https://forcreators.com/popular-audiobook-categories-2021/\n",
    "https://www.audiopub.org/uploads/pdf/Consumer-and-Sales-Survey-Press-Release-2021-FINAL.pdf"
   ]
  },
  {
   "cell_type": "code",
   "execution_count": 10,
   "metadata": {},
   "outputs": [],
   "source": [
    "# Selecting most popular audiobook genres.\n",
    "genre = ['Mysteries/Thrillers', 'Sci-Fi & Fantasy', 'Non-fiction', 'Romance', 'Children', 'Business', 'Podcasts', \n",
    "        'History', 'Comedy']\n",
    "# Setting probability for each category\n",
    "probability = [0.22, 0.18, 0.07, 0.15, 0.02, 0.09, 0.12, 0.04, 0.11]\n"
   ]
  },
  {
   "cell_type": "markdown",
   "metadata": {},
   "source": [
    "I think one of the most interesting variables in our dataset will be how many books our members listen per month. So lets begin with generating monthly periods by using period_range() pandas function (https://pandas.pydata.org/docs/reference/api/pandas.period_range.html)\n",
    "The part on how to combine two data frames with different lengths so that for each month we have each of the members repeating (as we want to know how many books they read each month)took me a lot of time and testing to figure out. In the end stackoverflow was my saviour as it is most of the time and I was able to find information on how to do a cross join of two data frames with no columns in common using pandas.\n",
    "(https://stackoverflow.com/questions/35265613/pandas-cross-join-no-columns-in-common)"
   ]
  },
  {
   "cell_type": "code",
   "execution_count": 11,
   "metadata": {},
   "outputs": [
    {
     "data": {
      "text/html": [
       "<div>\n",
       "<style scoped>\n",
       "    .dataframe tbody tr th:only-of-type {\n",
       "        vertical-align: middle;\n",
       "    }\n",
       "\n",
       "    .dataframe tbody tr th {\n",
       "        vertical-align: top;\n",
       "    }\n",
       "\n",
       "    .dataframe thead th {\n",
       "        text-align: right;\n",
       "    }\n",
       "</style>\n",
       "<table border=\"1\" class=\"dataframe\">\n",
       "  <thead>\n",
       "    <tr style=\"text-align: right;\">\n",
       "      <th></th>\n",
       "      <th>date</th>\n",
       "      <th>uid</th>\n",
       "      <th>gender</th>\n",
       "      <th>age_group</th>\n",
       "    </tr>\n",
       "  </thead>\n",
       "  <tbody>\n",
       "    <tr>\n",
       "      <th>0</th>\n",
       "      <td>2018-01</td>\n",
       "      <td>BCK19</td>\n",
       "      <td>male</td>\n",
       "      <td>18-29</td>\n",
       "    </tr>\n",
       "    <tr>\n",
       "      <th>1</th>\n",
       "      <td>2018-01</td>\n",
       "      <td>ANI81</td>\n",
       "      <td>female</td>\n",
       "      <td>18-29</td>\n",
       "    </tr>\n",
       "    <tr>\n",
       "      <th>2</th>\n",
       "      <td>2018-01</td>\n",
       "      <td>IIG04</td>\n",
       "      <td>female</td>\n",
       "      <td>18-29</td>\n",
       "    </tr>\n",
       "    <tr>\n",
       "      <th>3</th>\n",
       "      <td>2018-01</td>\n",
       "      <td>CPB34</td>\n",
       "      <td>male</td>\n",
       "      <td>30-49</td>\n",
       "    </tr>\n",
       "    <tr>\n",
       "      <th>4</th>\n",
       "      <td>2018-01</td>\n",
       "      <td>XCD70</td>\n",
       "      <td>female</td>\n",
       "      <td>30-49</td>\n",
       "    </tr>\n",
       "    <tr>\n",
       "      <th>...</th>\n",
       "      <td>...</td>\n",
       "      <td>...</td>\n",
       "      <td>...</td>\n",
       "      <td>...</td>\n",
       "    </tr>\n",
       "    <tr>\n",
       "      <th>3595</th>\n",
       "      <td>2020-12</td>\n",
       "      <td>LMK88</td>\n",
       "      <td>male</td>\n",
       "      <td>50-64</td>\n",
       "    </tr>\n",
       "    <tr>\n",
       "      <th>3596</th>\n",
       "      <td>2020-12</td>\n",
       "      <td>ERO80</td>\n",
       "      <td>male</td>\n",
       "      <td>65+</td>\n",
       "    </tr>\n",
       "    <tr>\n",
       "      <th>3597</th>\n",
       "      <td>2020-12</td>\n",
       "      <td>PEO84</td>\n",
       "      <td>male</td>\n",
       "      <td>30-49</td>\n",
       "    </tr>\n",
       "    <tr>\n",
       "      <th>3598</th>\n",
       "      <td>2020-12</td>\n",
       "      <td>NJY80</td>\n",
       "      <td>female</td>\n",
       "      <td>18-29</td>\n",
       "    </tr>\n",
       "    <tr>\n",
       "      <th>3599</th>\n",
       "      <td>2020-12</td>\n",
       "      <td>BNI06</td>\n",
       "      <td>male</td>\n",
       "      <td>18-29</td>\n",
       "    </tr>\n",
       "  </tbody>\n",
       "</table>\n",
       "<p>3600 rows × 4 columns</p>\n",
       "</div>"
      ],
      "text/plain": [
       "         date    uid  gender age_group\n",
       "0     2018-01  BCK19    male     18-29\n",
       "1     2018-01  ANI81  female     18-29\n",
       "2     2018-01  IIG04  female     18-29\n",
       "3     2018-01  CPB34    male     30-49\n",
       "4     2018-01  XCD70  female     30-49\n",
       "...       ...    ...     ...       ...\n",
       "3595  2020-12  LMK88    male     50-64\n",
       "3596  2020-12  ERO80    male       65+\n",
       "3597  2020-12  PEO84    male     30-49\n",
       "3598  2020-12  NJY80  female     18-29\n",
       "3599  2020-12  BNI06    male     18-29\n",
       "\n",
       "[3600 rows x 4 columns]"
      ]
     },
     "execution_count": 11,
     "metadata": {},
     "output_type": "execute_result"
    }
   ],
   "source": [
    "# Let's look at the statistics over 3 year period for each month\n",
    "periods = 12*3\n",
    "\n",
    "month = pd.period_range(start='1/1/2018', periods=periods, freq='M')\n",
    "dfmonth = pd.DataFrame()\n",
    "dfmonth['date'] = month\n",
    "\n",
    "# Creating temporary column that both our data frames will have so we can merge them together\n",
    "df['tmp'] = 1\n",
    "dfmonth['tmp'] = 1\n",
    "full = pd.merge(dfmonth, df, on=['tmp'])\n",
    "# After merge is complete we can delete it\n",
    "full = full.drop('tmp', axis=1)\n",
    "full\n"
   ]
  },
  {
   "cell_type": "code",
   "execution_count": 12,
   "metadata": {},
   "outputs": [],
   "source": [
    "# Saving our data to file. For now it will be re-written every time we run the code. I do this for my own check.\n",
    "full.to_csv('data/comb.csv')"
   ]
  },
  {
   "cell_type": "markdown",
   "metadata": {},
   "source": [
    "And now to the interesting part. For this example, we presume all of our 100 members have been members of our audiobook service for at least 3 years 2018-2020. Now we want to find out how active they were during this time listening to the books. I specifically wanted to include year 2020 as during pandemic there have been a significant increase in the listening time which we are going to account for when generating the data.\n",
    "\n",
    "According to https://www.greatworklife.com/how-to-listen-to-audiobooks-statistics/ 32% of people listen to 2-3 books and 29% digested 4 to 7 books per month. This means that 61% of audiobook listeners are huge fans of the service.\n",
    "\n",
    "So, let's try to simulate similar data and account for increase in 2020."
   ]
  },
  {
   "cell_type": "code",
   "execution_count": 13,
   "metadata": {},
   "outputs": [],
   "source": [
    "# First, we devide number of books read into 5 categories '0', '1', '2-3','4-6', '7+'\n",
    "nbooks_arr = ['0', '1', '2-3','4-6', '7+']\n",
    "\n",
    "# Now, as we want to show the increase in number of books that our members are listeing to, we need to have \n",
    "# different probabilities depending on the year. For every year we need 1200 entries (12months x 100 members)\n",
    "nbooks2018 = rng.choice(nbooks_arr, 1200, p=[0.09, 0.24, 0.28, 0.25, 0.14])\n",
    "nbooks2019 = rng.choice(nbooks_arr, 1200, p=[0.05, 0.22, 0.32, 0.30, 0.11])\n",
    "nbooks20220 = rng.choice(nbooks_arr, 1200, p=[0.02, 0.15, 0.33, 0.30, 0.2])\n"
   ]
  },
  {
   "cell_type": "markdown",
   "metadata": {},
   "source": [
    "As a next step I was trying to figure out how to split dataframe depending on the year / select the part of the dataframe depending on the year (similar to 'where' clause in SQL). After some googling I found that loc function will be the most suitable for that purpose.\n",
    "https://www.geeksforgeeks.org/how-to-filter-dataframe-rows-based-on-the-date-in-pandas/"
   ]
  },
  {
   "cell_type": "code",
   "execution_count": 14,
   "metadata": {},
   "outputs": [
    {
     "data": {
      "text/html": [
       "<div>\n",
       "<style scoped>\n",
       "    .dataframe tbody tr th:only-of-type {\n",
       "        vertical-align: middle;\n",
       "    }\n",
       "\n",
       "    .dataframe tbody tr th {\n",
       "        vertical-align: top;\n",
       "    }\n",
       "\n",
       "    .dataframe thead th {\n",
       "        text-align: right;\n",
       "    }\n",
       "</style>\n",
       "<table border=\"1\" class=\"dataframe\">\n",
       "  <thead>\n",
       "    <tr style=\"text-align: right;\">\n",
       "      <th></th>\n",
       "      <th>date</th>\n",
       "      <th>uid</th>\n",
       "      <th>gender</th>\n",
       "      <th>age_group</th>\n",
       "    </tr>\n",
       "  </thead>\n",
       "  <tbody>\n",
       "    <tr>\n",
       "      <th>0</th>\n",
       "      <td>2018-01</td>\n",
       "      <td>BCK19</td>\n",
       "      <td>male</td>\n",
       "      <td>18-29</td>\n",
       "    </tr>\n",
       "    <tr>\n",
       "      <th>1</th>\n",
       "      <td>2018-01</td>\n",
       "      <td>ANI81</td>\n",
       "      <td>female</td>\n",
       "      <td>18-29</td>\n",
       "    </tr>\n",
       "    <tr>\n",
       "      <th>2</th>\n",
       "      <td>2018-01</td>\n",
       "      <td>IIG04</td>\n",
       "      <td>female</td>\n",
       "      <td>18-29</td>\n",
       "    </tr>\n",
       "    <tr>\n",
       "      <th>3</th>\n",
       "      <td>2018-01</td>\n",
       "      <td>CPB34</td>\n",
       "      <td>male</td>\n",
       "      <td>30-49</td>\n",
       "    </tr>\n",
       "    <tr>\n",
       "      <th>4</th>\n",
       "      <td>2018-01</td>\n",
       "      <td>XCD70</td>\n",
       "      <td>female</td>\n",
       "      <td>30-49</td>\n",
       "    </tr>\n",
       "    <tr>\n",
       "      <th>...</th>\n",
       "      <td>...</td>\n",
       "      <td>...</td>\n",
       "      <td>...</td>\n",
       "      <td>...</td>\n",
       "    </tr>\n",
       "    <tr>\n",
       "      <th>1195</th>\n",
       "      <td>2018-12</td>\n",
       "      <td>LMK88</td>\n",
       "      <td>male</td>\n",
       "      <td>50-64</td>\n",
       "    </tr>\n",
       "    <tr>\n",
       "      <th>1196</th>\n",
       "      <td>2018-12</td>\n",
       "      <td>ERO80</td>\n",
       "      <td>male</td>\n",
       "      <td>65+</td>\n",
       "    </tr>\n",
       "    <tr>\n",
       "      <th>1197</th>\n",
       "      <td>2018-12</td>\n",
       "      <td>PEO84</td>\n",
       "      <td>male</td>\n",
       "      <td>30-49</td>\n",
       "    </tr>\n",
       "    <tr>\n",
       "      <th>1198</th>\n",
       "      <td>2018-12</td>\n",
       "      <td>NJY80</td>\n",
       "      <td>female</td>\n",
       "      <td>18-29</td>\n",
       "    </tr>\n",
       "    <tr>\n",
       "      <th>1199</th>\n",
       "      <td>2018-12</td>\n",
       "      <td>BNI06</td>\n",
       "      <td>male</td>\n",
       "      <td>18-29</td>\n",
       "    </tr>\n",
       "  </tbody>\n",
       "</table>\n",
       "<p>1200 rows × 4 columns</p>\n",
       "</div>"
      ],
      "text/plain": [
       "         date    uid  gender age_group\n",
       "0     2018-01  BCK19    male     18-29\n",
       "1     2018-01  ANI81  female     18-29\n",
       "2     2018-01  IIG04  female     18-29\n",
       "3     2018-01  CPB34    male     30-49\n",
       "4     2018-01  XCD70  female     30-49\n",
       "...       ...    ...     ...       ...\n",
       "1195  2018-12  LMK88    male     50-64\n",
       "1196  2018-12  ERO80    male       65+\n",
       "1197  2018-12  PEO84    male     30-49\n",
       "1198  2018-12  NJY80  female     18-29\n",
       "1199  2018-12  BNI06    male     18-29\n",
       "\n",
       "[1200 rows x 4 columns]"
      ]
     },
     "execution_count": 14,
     "metadata": {},
     "output_type": "execute_result"
    }
   ],
   "source": [
    "# splitting into separate years for testing. I'm going to use those expression below to add new field 'num_books' \n",
    "# to our dataframe \n",
    "year2018 = full.loc[full['date'] < '2019-01']\n",
    "year2019 = full.loc[(full['date'] >= '2019-01') & (full['date'] < '2020-01')]\n",
    "year2020 = full.loc[full['date'] >= '2020-01']\n",
    "# This is to test that the code above is only selecting 1 year (in this case 2018), can be changed to any other two. \n",
    "year2018"
   ]
  },
  {
   "cell_type": "markdown",
   "metadata": {},
   "source": [
    "Now, that I know how to filter our dataframe depending on the year, I was a bit struggling to find out how to add\n",
    "our \"nbooks\" data which we have generated above to the new column depnding on the year. After a lot of experimentation, I ended up with the following solution:"
   ]
  },
  {
   "cell_type": "markdown",
   "metadata": {},
   "source": []
  },
  {
   "cell_type": "code",
   "execution_count": 15,
   "metadata": {},
   "outputs": [
    {
     "data": {
      "text/html": [
       "<div>\n",
       "<style scoped>\n",
       "    .dataframe tbody tr th:only-of-type {\n",
       "        vertical-align: middle;\n",
       "    }\n",
       "\n",
       "    .dataframe tbody tr th {\n",
       "        vertical-align: top;\n",
       "    }\n",
       "\n",
       "    .dataframe thead th {\n",
       "        text-align: right;\n",
       "    }\n",
       "</style>\n",
       "<table border=\"1\" class=\"dataframe\">\n",
       "  <thead>\n",
       "    <tr style=\"text-align: right;\">\n",
       "      <th></th>\n",
       "      <th>date</th>\n",
       "      <th>uid</th>\n",
       "      <th>gender</th>\n",
       "      <th>age_group</th>\n",
       "      <th>num_books</th>\n",
       "    </tr>\n",
       "  </thead>\n",
       "  <tbody>\n",
       "    <tr>\n",
       "      <th>0</th>\n",
       "      <td>2018-01</td>\n",
       "      <td>BCK19</td>\n",
       "      <td>male</td>\n",
       "      <td>18-29</td>\n",
       "      <td>0</td>\n",
       "    </tr>\n",
       "    <tr>\n",
       "      <th>1</th>\n",
       "      <td>2018-01</td>\n",
       "      <td>ANI81</td>\n",
       "      <td>female</td>\n",
       "      <td>18-29</td>\n",
       "      <td>2-3</td>\n",
       "    </tr>\n",
       "    <tr>\n",
       "      <th>2</th>\n",
       "      <td>2018-01</td>\n",
       "      <td>IIG04</td>\n",
       "      <td>female</td>\n",
       "      <td>18-29</td>\n",
       "      <td>4-6</td>\n",
       "    </tr>\n",
       "    <tr>\n",
       "      <th>3</th>\n",
       "      <td>2018-01</td>\n",
       "      <td>CPB34</td>\n",
       "      <td>male</td>\n",
       "      <td>30-49</td>\n",
       "      <td>1</td>\n",
       "    </tr>\n",
       "    <tr>\n",
       "      <th>4</th>\n",
       "      <td>2018-01</td>\n",
       "      <td>XCD70</td>\n",
       "      <td>female</td>\n",
       "      <td>30-49</td>\n",
       "      <td>4-6</td>\n",
       "    </tr>\n",
       "    <tr>\n",
       "      <th>5</th>\n",
       "      <td>2018-01</td>\n",
       "      <td>XOG87</td>\n",
       "      <td>male</td>\n",
       "      <td>30-49</td>\n",
       "      <td>7+</td>\n",
       "    </tr>\n",
       "    <tr>\n",
       "      <th>6</th>\n",
       "      <td>2018-01</td>\n",
       "      <td>IUF65</td>\n",
       "      <td>male</td>\n",
       "      <td>50-64</td>\n",
       "      <td>2-3</td>\n",
       "    </tr>\n",
       "    <tr>\n",
       "      <th>7</th>\n",
       "      <td>2018-01</td>\n",
       "      <td>VIK75</td>\n",
       "      <td>male</td>\n",
       "      <td>30-49</td>\n",
       "      <td>1</td>\n",
       "    </tr>\n",
       "    <tr>\n",
       "      <th>8</th>\n",
       "      <td>2018-01</td>\n",
       "      <td>RQR84</td>\n",
       "      <td>male</td>\n",
       "      <td>18-29</td>\n",
       "      <td>7+</td>\n",
       "    </tr>\n",
       "    <tr>\n",
       "      <th>9</th>\n",
       "      <td>2018-01</td>\n",
       "      <td>RJA71</td>\n",
       "      <td>male</td>\n",
       "      <td>50-64</td>\n",
       "      <td>7+</td>\n",
       "    </tr>\n",
       "  </tbody>\n",
       "</table>\n",
       "</div>"
      ],
      "text/plain": [
       "      date    uid  gender age_group num_books\n",
       "0  2018-01  BCK19    male     18-29         0\n",
       "1  2018-01  ANI81  female     18-29       2-3\n",
       "2  2018-01  IIG04  female     18-29       4-6\n",
       "3  2018-01  CPB34    male     30-49         1\n",
       "4  2018-01  XCD70  female     30-49       4-6\n",
       "5  2018-01  XOG87    male     30-49        7+\n",
       "6  2018-01  IUF65    male     50-64       2-3\n",
       "7  2018-01  VIK75    male     30-49         1\n",
       "8  2018-01  RQR84    male     18-29        7+\n",
       "9  2018-01  RJA71    male     50-64        7+"
      ]
     },
     "execution_count": 15,
     "metadata": {},
     "output_type": "execute_result"
    }
   ],
   "source": [
    "# where year is 2018 (< 2019) we fill 'num_books' column with our generated data nbooks2018 and so on\n",
    "full.loc[full['date'] < '2019-01', 'num_books'] = nbooks2018\n",
    "\n",
    "full.loc[(full['date'] >= '2019-01') & (full['date'] < '2020-01'), 'num_books'] = nbooks2019\n",
    "\n",
    "full.loc[full['date'] >= '2020-01', 'num_books'] = nbooks20220\n",
    "\n",
    "# quick check\n",
    "full.head(10)"
   ]
  },
  {
   "cell_type": "code",
   "execution_count": 16,
   "metadata": {},
   "outputs": [
    {
     "data": {
      "text/html": [
       "<div>\n",
       "<style scoped>\n",
       "    .dataframe tbody tr th:only-of-type {\n",
       "        vertical-align: middle;\n",
       "    }\n",
       "\n",
       "    .dataframe tbody tr th {\n",
       "        vertical-align: top;\n",
       "    }\n",
       "\n",
       "    .dataframe thead th {\n",
       "        text-align: right;\n",
       "    }\n",
       "</style>\n",
       "<table border=\"1\" class=\"dataframe\">\n",
       "  <thead>\n",
       "    <tr style=\"text-align: right;\">\n",
       "      <th></th>\n",
       "      <th>date</th>\n",
       "      <th>uid</th>\n",
       "      <th>gender</th>\n",
       "      <th>age_group</th>\n",
       "      <th>num_books</th>\n",
       "      <th>year</th>\n",
       "    </tr>\n",
       "  </thead>\n",
       "  <tbody>\n",
       "    <tr>\n",
       "      <th>0</th>\n",
       "      <td>2018-01</td>\n",
       "      <td>BCK19</td>\n",
       "      <td>male</td>\n",
       "      <td>18-29</td>\n",
       "      <td>0</td>\n",
       "      <td>2018</td>\n",
       "    </tr>\n",
       "    <tr>\n",
       "      <th>1</th>\n",
       "      <td>2018-01</td>\n",
       "      <td>ANI81</td>\n",
       "      <td>female</td>\n",
       "      <td>18-29</td>\n",
       "      <td>2-3</td>\n",
       "      <td>2018</td>\n",
       "    </tr>\n",
       "    <tr>\n",
       "      <th>2</th>\n",
       "      <td>2018-01</td>\n",
       "      <td>IIG04</td>\n",
       "      <td>female</td>\n",
       "      <td>18-29</td>\n",
       "      <td>4-6</td>\n",
       "      <td>2018</td>\n",
       "    </tr>\n",
       "    <tr>\n",
       "      <th>3</th>\n",
       "      <td>2018-01</td>\n",
       "      <td>CPB34</td>\n",
       "      <td>male</td>\n",
       "      <td>30-49</td>\n",
       "      <td>1</td>\n",
       "      <td>2018</td>\n",
       "    </tr>\n",
       "    <tr>\n",
       "      <th>4</th>\n",
       "      <td>2018-01</td>\n",
       "      <td>XCD70</td>\n",
       "      <td>female</td>\n",
       "      <td>30-49</td>\n",
       "      <td>4-6</td>\n",
       "      <td>2018</td>\n",
       "    </tr>\n",
       "    <tr>\n",
       "      <th>...</th>\n",
       "      <td>...</td>\n",
       "      <td>...</td>\n",
       "      <td>...</td>\n",
       "      <td>...</td>\n",
       "      <td>...</td>\n",
       "      <td>...</td>\n",
       "    </tr>\n",
       "    <tr>\n",
       "      <th>3595</th>\n",
       "      <td>2020-12</td>\n",
       "      <td>LMK88</td>\n",
       "      <td>male</td>\n",
       "      <td>50-64</td>\n",
       "      <td>0</td>\n",
       "      <td>2020</td>\n",
       "    </tr>\n",
       "    <tr>\n",
       "      <th>3596</th>\n",
       "      <td>2020-12</td>\n",
       "      <td>ERO80</td>\n",
       "      <td>male</td>\n",
       "      <td>65+</td>\n",
       "      <td>4-6</td>\n",
       "      <td>2020</td>\n",
       "    </tr>\n",
       "    <tr>\n",
       "      <th>3597</th>\n",
       "      <td>2020-12</td>\n",
       "      <td>PEO84</td>\n",
       "      <td>male</td>\n",
       "      <td>30-49</td>\n",
       "      <td>1</td>\n",
       "      <td>2020</td>\n",
       "    </tr>\n",
       "    <tr>\n",
       "      <th>3598</th>\n",
       "      <td>2020-12</td>\n",
       "      <td>NJY80</td>\n",
       "      <td>female</td>\n",
       "      <td>18-29</td>\n",
       "      <td>7+</td>\n",
       "      <td>2020</td>\n",
       "    </tr>\n",
       "    <tr>\n",
       "      <th>3599</th>\n",
       "      <td>2020-12</td>\n",
       "      <td>BNI06</td>\n",
       "      <td>male</td>\n",
       "      <td>18-29</td>\n",
       "      <td>7+</td>\n",
       "      <td>2020</td>\n",
       "    </tr>\n",
       "  </tbody>\n",
       "</table>\n",
       "<p>3600 rows × 6 columns</p>\n",
       "</div>"
      ],
      "text/plain": [
       "         date    uid  gender age_group num_books  year\n",
       "0     2018-01  BCK19    male     18-29         0  2018\n",
       "1     2018-01  ANI81  female     18-29       2-3  2018\n",
       "2     2018-01  IIG04  female     18-29       4-6  2018\n",
       "3     2018-01  CPB34    male     30-49         1  2018\n",
       "4     2018-01  XCD70  female     30-49       4-6  2018\n",
       "...       ...    ...     ...       ...       ...   ...\n",
       "3595  2020-12  LMK88    male     50-64         0  2020\n",
       "3596  2020-12  ERO80    male       65+       4-6  2020\n",
       "3597  2020-12  PEO84    male     30-49         1  2020\n",
       "3598  2020-12  NJY80  female     18-29        7+  2020\n",
       "3599  2020-12  BNI06    male     18-29        7+  2020\n",
       "\n",
       "[3600 rows x 6 columns]"
      ]
     },
     "execution_count": 16,
     "metadata": {},
     "output_type": "execute_result"
    }
   ],
   "source": [
    "full.loc[full['date'] < '2019-01', 'year'] = '2018'\n",
    "full.loc[(full['date'] >= '2019-01') & (full['date'] < '2020-01'), 'year'] = '2019'\n",
    "full.loc[full['date'] >= '2020-01', 'year'] = '2020'\n",
    "# quick check\n",
    "full"
   ]
  },
  {
   "cell_type": "code",
   "execution_count": null,
   "metadata": {},
   "outputs": [],
   "source": []
  },
  {
   "cell_type": "markdown",
   "metadata": {},
   "source": [
    "Now, to the interesting part, let's see how our newly generated data looks like"
   ]
  },
  {
   "cell_type": "code",
   "execution_count": 17,
   "metadata": {},
   "outputs": [
    {
     "data": {
      "text/plain": [
       "<AxesSubplot:xlabel='num_books', ylabel='count'>"
      ]
     },
     "execution_count": 17,
     "metadata": {},
     "output_type": "execute_result"
    },
    {
     "data": {
      "image/png": "[encoded data removed]",
      "text/plain": [
       "<Figure size 1080x720 with 1 Axes>"
      ]
     },
     "metadata": {},
     "output_type": "display_data"
    }
   ],
   "source": [
    "sns.countplot(x='num_books', order=nbooks_arr, hue='year', data=full)"
   ]
  },
  {
   "cell_type": "code",
   "execution_count": 23,
   "metadata": {},
   "outputs": [],
   "source": [
    "#https://stackoverflow.com/questions/36894191/how-to-get-a-normal-distribution-within-a-range-in-numpy\n",
    "from scipy.stats import truncnorm\n",
    "\n",
    "def get_truncated_normal(mean=0, sd=1, low=0, upp=10):\n",
    "    return truncnorm(\n",
    "        (low - mean) / sd, (upp - mean) / sd, loc=mean, scale=sd)\n",
    "\n"
   ]
  },
  {
   "cell_type": "code",
   "execution_count": 35,
   "metadata": {},
   "outputs": [],
   "source": [
    "X1 = get_truncated_normal(mean=2, sd=1, low=0, upp=7)\n",
    "X2 = get_truncated_normal(mean=2.8, sd=1, low=0, upp=9)\n",
    "X3 = get_truncated_normal(mean=4, sd=1, low=0, upp=10)\n",
    "\n",
    "y18=X1.rvs(100)\n",
    "y19=X2.rvs(100)\n",
    "y20=X3.rvs(100)"
   ]
  },
  {
   "cell_type": "code",
   "execution_count": 36,
   "metadata": {},
   "outputs": [
    {
     "data": {
      "image/png": "[encoded data removed]",
      "text/plain": [
       "<Figure size 1080x720 with 3 Axes>"
      ]
     },
     "metadata": {},
     "output_type": "display_data"
    }
   ],
   "source": [
    "fig, ax = plt.subplots(3, sharex=True)\n",
    "ax[0].hist(y18)\n",
    "ax[1].hist(y19)\n",
    "ax[2].hist(y20)\n",
    "plt.show()"
   ]
  },
  {
   "cell_type": "code",
   "execution_count": 18,
   "metadata": {},
   "outputs": [
    {
     "ename": "SyntaxError",
     "evalue": "invalid syntax (<ipython-input-18-7949bc7c9248>, line 1)",
     "output_type": "error",
     "traceback": [
      "\u001b[0;36m  File \u001b[0;32m\"<ipython-input-18-7949bc7c9248>\"\u001b[0;36m, line \u001b[0;32m1\u001b[0m\n\u001b[0;31m    sns.countplot(x='num_books',  data=full[year]='2018')\u001b[0m\n\u001b[0m                                                 ^\u001b[0m\n\u001b[0;31mSyntaxError\u001b[0m\u001b[0;31m:\u001b[0m invalid syntax\n"
     ]
    }
   ],
   "source": [
    "\n",
    "sns.countplot(x='num_books',  data=full[year]='2018')"
   ]
  },
  {
   "cell_type": "code",
   "execution_count": null,
   "metadata": {},
   "outputs": [],
   "source": [
    "sns.countplot(x='num_books',  data=year2019)"
   ]
  },
  {
   "cell_type": "code",
   "execution_count": null,
   "metadata": {},
   "outputs": [],
   "source": []
  },
  {
   "cell_type": "code",
   "execution_count": null,
   "metadata": {},
   "outputs": [],
   "source": []
  },
  {
   "cell_type": "code",
   "execution_count": null,
   "metadata": {},
   "outputs": [],
   "source": []
  },
  {
   "cell_type": "code",
   "execution_count": null,
   "metadata": {},
   "outputs": [],
   "source": []
  },
  {
   "cell_type": "code",
   "execution_count": null,
   "metadata": {},
   "outputs": [],
   "source": [
    "full.head(30)"
   ]
  }
 ],
 "metadata": {
  "kernelspec": {
   "display_name": "Python 3",
   "language": "python",
   "name": "python3"
  },
  "language_info": {
   "codemirror_mode": {
    "name": "ipython",
    "version": 3
   },
   "file_extension": ".py",
   "mimetype": "text/x-python",
   "name": "python",
   "nbconvert_exporter": "python",
   "pygments_lexer": "ipython3",
   "version": "3.8.5"
  }
 },
 "nbformat": 4,
 "nbformat_minor": 4
}
